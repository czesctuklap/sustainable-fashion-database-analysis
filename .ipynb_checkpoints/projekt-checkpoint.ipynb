{
 "cells": [
  {
   "cell_type": "markdown",
   "id": "21e3716f-6d0a-44a7-a61c-eb60dfed53cf",
   "metadata": {},
   "source": [
    "## Języki skryptowe w analizie danych\n",
    "### Projekt 1, język Python"
   ]
  },
  {
   "cell_type": "code",
   "execution_count": 9,
   "id": "4bf86779-81ae-49fc-a6d6-1bd31c9726ca",
   "metadata": {},
   "outputs": [],
   "source": [
    "import numpy as np\n",
    "import pandas as pd\n",
    "import matplotlib.pyplot as plt\n",
    "import seaborn as sns"
   ]
  },
  {
   "cell_type": "code",
   "execution_count": 2,
   "id": "bb1d3a91-4fa4-435a-a2c0-7f6e8f0c7fb8",
   "metadata": {},
   "outputs": [],
   "source": [
    "df = pd.read_csv(r'sustainable_fashion_trends_2024.csv')"
   ]
  },
  {
   "cell_type": "markdown",
   "id": "02c384bb-313a-49d8-a9df-54bebc8a0b8a",
   "metadata": {},
   "source": [
    "Analiza bazy"
   ]
  },
  {
   "cell_type": "code",
   "execution_count": 3,
   "id": "009abdde-99ff-4a49-aa2e-5d866f9893e7",
   "metadata": {},
   "outputs": [
    {
     "data": {
      "text/html": [
       "<div>\n",
       "<style scoped>\n",
       "    .dataframe tbody tr th:only-of-type {\n",
       "        vertical-align: middle;\n",
       "    }\n",
       "\n",
       "    .dataframe tbody tr th {\n",
       "        vertical-align: top;\n",
       "    }\n",
       "\n",
       "    .dataframe thead th {\n",
       "        text-align: right;\n",
       "    }\n",
       "</style>\n",
       "<table border=\"1\" class=\"dataframe\">\n",
       "  <thead>\n",
       "    <tr style=\"text-align: right;\">\n",
       "      <th></th>\n",
       "      <th>Brand_ID</th>\n",
       "      <th>Brand_Name</th>\n",
       "      <th>Country</th>\n",
       "      <th>Year</th>\n",
       "      <th>Sustainability_Rating</th>\n",
       "      <th>Material_Type</th>\n",
       "      <th>Eco_Friendly_Manufacturing</th>\n",
       "      <th>Carbon_Footprint_MT</th>\n",
       "      <th>Water_Usage_Liters</th>\n",
       "      <th>Waste_Production_KG</th>\n",
       "      <th>Recycling_Programs</th>\n",
       "      <th>Product_Lines</th>\n",
       "      <th>Average_Price_USD</th>\n",
       "      <th>Market_Trend</th>\n",
       "      <th>Certifications</th>\n",
       "    </tr>\n",
       "  </thead>\n",
       "  <tbody>\n",
       "    <tr>\n",
       "      <th>0</th>\n",
       "      <td>BRAND-0001</td>\n",
       "      <td>Brand_1</td>\n",
       "      <td>Australia</td>\n",
       "      <td>2018</td>\n",
       "      <td>D</td>\n",
       "      <td>Tencel</td>\n",
       "      <td>No</td>\n",
       "      <td>1.75</td>\n",
       "      <td>4511152.79</td>\n",
       "      <td>97844.11</td>\n",
       "      <td>No</td>\n",
       "      <td>2</td>\n",
       "      <td>38.33</td>\n",
       "      <td>Growing</td>\n",
       "      <td>GOTS</td>\n",
       "    </tr>\n",
       "    <tr>\n",
       "      <th>1</th>\n",
       "      <td>BRAND-0002</td>\n",
       "      <td>Brand_2</td>\n",
       "      <td>Japan</td>\n",
       "      <td>2015</td>\n",
       "      <td>D</td>\n",
       "      <td>Vegan Leather</td>\n",
       "      <td>Yes</td>\n",
       "      <td>124.39</td>\n",
       "      <td>1951566.31</td>\n",
       "      <td>37267.75</td>\n",
       "      <td>No</td>\n",
       "      <td>15</td>\n",
       "      <td>250.07</td>\n",
       "      <td>Growing</td>\n",
       "      <td>GOTS</td>\n",
       "    </tr>\n",
       "    <tr>\n",
       "      <th>2</th>\n",
       "      <td>BRAND-0003</td>\n",
       "      <td>Brand_3</td>\n",
       "      <td>USA</td>\n",
       "      <td>2024</td>\n",
       "      <td>A</td>\n",
       "      <td>Vegan Leather</td>\n",
       "      <td>No</td>\n",
       "      <td>336.66</td>\n",
       "      <td>467454.52</td>\n",
       "      <td>38385.92</td>\n",
       "      <td>No</td>\n",
       "      <td>2</td>\n",
       "      <td>146.16</td>\n",
       "      <td>Growing</td>\n",
       "      <td>B Corp</td>\n",
       "    </tr>\n",
       "    <tr>\n",
       "      <th>3</th>\n",
       "      <td>BRAND-0004</td>\n",
       "      <td>Brand_4</td>\n",
       "      <td>Italy</td>\n",
       "      <td>2023</td>\n",
       "      <td>D</td>\n",
       "      <td>Bamboo Fabric</td>\n",
       "      <td>No</td>\n",
       "      <td>152.04</td>\n",
       "      <td>899576.90</td>\n",
       "      <td>32665.45</td>\n",
       "      <td>No</td>\n",
       "      <td>13</td>\n",
       "      <td>165.52</td>\n",
       "      <td>Stable</td>\n",
       "      <td>OEKO-TEX</td>\n",
       "    </tr>\n",
       "    <tr>\n",
       "      <th>4</th>\n",
       "      <td>BRAND-0005</td>\n",
       "      <td>Brand_5</td>\n",
       "      <td>USA</td>\n",
       "      <td>2016</td>\n",
       "      <td>D</td>\n",
       "      <td>Bamboo Fabric</td>\n",
       "      <td>Yes</td>\n",
       "      <td>415.63</td>\n",
       "      <td>1809219.90</td>\n",
       "      <td>37295.47</td>\n",
       "      <td>Yes</td>\n",
       "      <td>19</td>\n",
       "      <td>211.63</td>\n",
       "      <td>Stable</td>\n",
       "      <td>Fair Trade</td>\n",
       "    </tr>\n",
       "  </tbody>\n",
       "</table>\n",
       "</div>"
      ],
      "text/plain": [
       "     Brand_ID Brand_Name    Country  Year Sustainability_Rating  \\\n",
       "0  BRAND-0001    Brand_1  Australia  2018                     D   \n",
       "1  BRAND-0002    Brand_2      Japan  2015                     D   \n",
       "2  BRAND-0003    Brand_3        USA  2024                     A   \n",
       "3  BRAND-0004    Brand_4      Italy  2023                     D   \n",
       "4  BRAND-0005    Brand_5        USA  2016                     D   \n",
       "\n",
       "   Material_Type Eco_Friendly_Manufacturing  Carbon_Footprint_MT  \\\n",
       "0         Tencel                         No                 1.75   \n",
       "1  Vegan Leather                        Yes               124.39   \n",
       "2  Vegan Leather                         No               336.66   \n",
       "3  Bamboo Fabric                         No               152.04   \n",
       "4  Bamboo Fabric                        Yes               415.63   \n",
       "\n",
       "   Water_Usage_Liters  Waste_Production_KG Recycling_Programs  Product_Lines  \\\n",
       "0          4511152.79             97844.11                 No              2   \n",
       "1          1951566.31             37267.75                 No             15   \n",
       "2           467454.52             38385.92                 No              2   \n",
       "3           899576.90             32665.45                 No             13   \n",
       "4          1809219.90             37295.47                Yes             19   \n",
       "\n",
       "   Average_Price_USD Market_Trend Certifications  \n",
       "0              38.33      Growing           GOTS  \n",
       "1             250.07      Growing           GOTS  \n",
       "2             146.16      Growing         B Corp  \n",
       "3             165.52       Stable       OEKO-TEX  \n",
       "4             211.63       Stable     Fair Trade  "
      ]
     },
     "execution_count": 3,
     "metadata": {},
     "output_type": "execute_result"
    }
   ],
   "source": [
    "df.head()"
   ]
  },
  {
   "cell_type": "code",
   "execution_count": 4,
   "id": "14647351-7a36-4003-9b48-de0a77a333a1",
   "metadata": {},
   "outputs": [
    {
     "name": "stdout",
     "output_type": "stream",
     "text": [
      "<class 'pandas.core.frame.DataFrame'>\n",
      "RangeIndex: 5000 entries, 0 to 4999\n",
      "Data columns (total 15 columns):\n",
      " #   Column                      Non-Null Count  Dtype  \n",
      "---  ------                      --------------  -----  \n",
      " 0   Brand_ID                    5000 non-null   object \n",
      " 1   Brand_Name                  5000 non-null   object \n",
      " 2   Country                     5000 non-null   object \n",
      " 3   Year                        5000 non-null   int64  \n",
      " 4   Sustainability_Rating       5000 non-null   object \n",
      " 5   Material_Type               5000 non-null   object \n",
      " 6   Eco_Friendly_Manufacturing  5000 non-null   object \n",
      " 7   Carbon_Footprint_MT         5000 non-null   float64\n",
      " 8   Water_Usage_Liters          5000 non-null   float64\n",
      " 9   Waste_Production_KG         5000 non-null   float64\n",
      " 10  Recycling_Programs          5000 non-null   object \n",
      " 11  Product_Lines               5000 non-null   int64  \n",
      " 12  Average_Price_USD           5000 non-null   float64\n",
      " 13  Market_Trend                5000 non-null   object \n",
      " 14  Certifications              3996 non-null   object \n",
      "dtypes: float64(4), int64(2), object(9)\n",
      "memory usage: 586.1+ KB\n"
     ]
    }
   ],
   "source": [
    "df.info()"
   ]
  },
  {
   "cell_type": "code",
   "execution_count": 5,
   "id": "65fc4bf6-9ca7-44b2-a5dc-8a1912932c6a",
   "metadata": {},
   "outputs": [
    {
     "data": {
      "text/plain": [
       "Brand_ID                         0\n",
       "Brand_Name                       0\n",
       "Country                          0\n",
       "Year                             0\n",
       "Sustainability_Rating            0\n",
       "Material_Type                    0\n",
       "Eco_Friendly_Manufacturing       0\n",
       "Carbon_Footprint_MT              0\n",
       "Water_Usage_Liters               0\n",
       "Waste_Production_KG              0\n",
       "Recycling_Programs               0\n",
       "Product_Lines                    0\n",
       "Average_Price_USD                0\n",
       "Market_Trend                     0\n",
       "Certifications                1004\n",
       "dtype: int64"
      ]
     },
     "execution_count": 5,
     "metadata": {},
     "output_type": "execute_result"
    }
   ],
   "source": [
    "df.isna().sum()"
   ]
  },
  {
   "cell_type": "code",
   "execution_count": 6,
   "id": "97d69f1e-ad74-411e-83db-f2dd75b6799b",
   "metadata": {},
   "outputs": [
    {
     "data": {
      "text/plain": [
       "0"
      ]
     },
     "execution_count": 6,
     "metadata": {},
     "output_type": "execute_result"
    }
   ],
   "source": [
    "duplicated_rows = df.duplicated()\n",
    "duplicated_rows[duplicated_rows == True].sum()"
   ]
  },
  {
   "cell_type": "code",
   "execution_count": 7,
   "id": "de5cd1bb-6635-435b-800d-0b958b1fa7d0",
   "metadata": {},
   "outputs": [
    {
     "data": {
      "text/html": [
       "<div>\n",
       "<style scoped>\n",
       "    .dataframe tbody tr th:only-of-type {\n",
       "        vertical-align: middle;\n",
       "    }\n",
       "\n",
       "    .dataframe tbody tr th {\n",
       "        vertical-align: top;\n",
       "    }\n",
       "\n",
       "    .dataframe thead th {\n",
       "        text-align: right;\n",
       "    }\n",
       "</style>\n",
       "<table border=\"1\" class=\"dataframe\">\n",
       "  <thead>\n",
       "    <tr style=\"text-align: right;\">\n",
       "      <th></th>\n",
       "      <th>Year</th>\n",
       "      <th>Carbon_Footprint_MT</th>\n",
       "      <th>Water_Usage_Liters</th>\n",
       "      <th>Waste_Production_KG</th>\n",
       "      <th>Product_Lines</th>\n",
       "      <th>Average_Price_USD</th>\n",
       "    </tr>\n",
       "  </thead>\n",
       "  <tbody>\n",
       "    <tr>\n",
       "      <th>count</th>\n",
       "      <td>5000.000000</td>\n",
       "      <td>5000.000000</td>\n",
       "      <td>5.000000e+03</td>\n",
       "      <td>5000.000000</td>\n",
       "      <td>5000.000000</td>\n",
       "      <td>5000.000000</td>\n",
       "    </tr>\n",
       "    <tr>\n",
       "      <th>mean</th>\n",
       "      <td>2016.956200</td>\n",
       "      <td>250.317550</td>\n",
       "      <td>2.517862e+06</td>\n",
       "      <td>50107.304048</td>\n",
       "      <td>10.431200</td>\n",
       "      <td>259.354216</td>\n",
       "    </tr>\n",
       "    <tr>\n",
       "      <th>std</th>\n",
       "      <td>4.347466</td>\n",
       "      <td>142.802345</td>\n",
       "      <td>1.429043e+06</td>\n",
       "      <td>28746.381115</td>\n",
       "      <td>5.706573</td>\n",
       "      <td>137.730976</td>\n",
       "    </tr>\n",
       "    <tr>\n",
       "      <th>min</th>\n",
       "      <td>2010.000000</td>\n",
       "      <td>1.040000</td>\n",
       "      <td>5.010618e+04</td>\n",
       "      <td>1026.380000</td>\n",
       "      <td>1.000000</td>\n",
       "      <td>20.020000</td>\n",
       "    </tr>\n",
       "    <tr>\n",
       "      <th>25%</th>\n",
       "      <td>2013.000000</td>\n",
       "      <td>126.615000</td>\n",
       "      <td>1.293087e+06</td>\n",
       "      <td>25340.802500</td>\n",
       "      <td>5.000000</td>\n",
       "      <td>142.865000</td>\n",
       "    </tr>\n",
       "    <tr>\n",
       "      <th>50%</th>\n",
       "      <td>2017.000000</td>\n",
       "      <td>250.650000</td>\n",
       "      <td>2.499096e+06</td>\n",
       "      <td>50466.340000</td>\n",
       "      <td>10.000000</td>\n",
       "      <td>258.615000</td>\n",
       "    </tr>\n",
       "    <tr>\n",
       "      <th>75%</th>\n",
       "      <td>2021.000000</td>\n",
       "      <td>372.255000</td>\n",
       "      <td>3.763860e+06</td>\n",
       "      <td>74984.650000</td>\n",
       "      <td>15.000000</td>\n",
       "      <td>378.595000</td>\n",
       "    </tr>\n",
       "    <tr>\n",
       "      <th>max</th>\n",
       "      <td>2024.000000</td>\n",
       "      <td>499.930000</td>\n",
       "      <td>4.999597e+06</td>\n",
       "      <td>99947.850000</td>\n",
       "      <td>20.000000</td>\n",
       "      <td>499.940000</td>\n",
       "    </tr>\n",
       "  </tbody>\n",
       "</table>\n",
       "</div>"
      ],
      "text/plain": [
       "              Year  Carbon_Footprint_MT  Water_Usage_Liters  \\\n",
       "count  5000.000000          5000.000000        5.000000e+03   \n",
       "mean   2016.956200           250.317550        2.517862e+06   \n",
       "std       4.347466           142.802345        1.429043e+06   \n",
       "min    2010.000000             1.040000        5.010618e+04   \n",
       "25%    2013.000000           126.615000        1.293087e+06   \n",
       "50%    2017.000000           250.650000        2.499096e+06   \n",
       "75%    2021.000000           372.255000        3.763860e+06   \n",
       "max    2024.000000           499.930000        4.999597e+06   \n",
       "\n",
       "       Waste_Production_KG  Product_Lines  Average_Price_USD  \n",
       "count          5000.000000    5000.000000        5000.000000  \n",
       "mean          50107.304048      10.431200         259.354216  \n",
       "std           28746.381115       5.706573         137.730976  \n",
       "min            1026.380000       1.000000          20.020000  \n",
       "25%           25340.802500       5.000000         142.865000  \n",
       "50%           50466.340000      10.000000         258.615000  \n",
       "75%           74984.650000      15.000000         378.595000  \n",
       "max           99947.850000      20.000000         499.940000  "
      ]
     },
     "execution_count": 7,
     "metadata": {},
     "output_type": "execute_result"
    }
   ],
   "source": [
    "numeric_cols = ['Year', 'Carbon_Footprint_MT', 'Water_Usage_Liters', 'Waste_Production_KG', 'Product_Lines', 'Average_Price_USD']\n",
    "df[numeric_cols].describe()"
   ]
  },
  {
   "cell_type": "markdown",
   "id": "1e0c2695-3788-484e-b111-1de07bcde57c",
   "metadata": {},
   "source": [
    "Wizualizacja podstawowych wartości bazy"
   ]
  },
  {
   "cell_type": "code",
   "execution_count": 10,
   "id": "4cab0f09-1542-4959-b663-6fc88b74d373",
   "metadata": {},
   "outputs": [],
   "source": [
    "countries = df['Country'].value_counts()"
   ]
  },
  {
   "cell_type": "code",
   "execution_count": 12,
   "id": "d1196146-fd0b-4bd3-969c-b26bc6057b5a",
   "metadata": {},
   "outputs": [
    {
     "data": {
      "image/png": "[encoded data removed]",
      "text/plain": [
       "<Figure size 800x800 with 1 Axes>"
      ]
     },
     "metadata": {},
     "output_type": "display_data"
    }
   ],
   "source": [
    "plt.figure(figsize=(8,8))\n",
    "plt.pie(countries, labels=countries.index, autopct='%1.1f%%', startangle = 140)\n",
    "plt.title('Proporcja krajów')\n",
    "plt.show()"
   ]
  },
  {
   "cell_type": "code",
   "execution_count": 16,
   "id": "937cf07a-baa7-4cd8-b53a-0cd50453d644",
   "metadata": {},
   "outputs": [
    {
     "data": {
      "image/png": "[encoded data removed]",
      "text/plain": [
       "<Figure size 1000x800 with 1 Axes>"
      ]
     },
     "metadata": {},
     "output_type": "display_data"
    }
   ],
   "source": [
    "plt.figure(figsize=(10,8))\n",
    "sns.countplot(data = df, x = 'Year')\n",
    "plt.title('Proporcja lat zbierania danych')\n",
    "plt.xlabel('Year')\n",
    "plt.ylabel('Records')\n",
    "plt.show()"
   ]
  },
  {
   "cell_type": "code",
   "execution_count": null,
   "id": "08529539-a0e4-4024-ae0f-f1eec0fad11c",
   "metadata": {},
   "outputs": [],
   "source": []
  }
 ],
 "metadata": {
  "kernelspec": {
   "display_name": "Python 3 (ipykernel)",
   "language": "python",
   "name": "python3"
  },
  "language_info": {
   "codemirror_mode": {
    "name": "ipython",
    "version": 3
   },
   "file_extension": ".py",
   "mimetype": "text/x-python",
   "name": "python",
   "nbconvert_exporter": "python",
   "pygments_lexer": "ipython3",
   "version": "3.12.1"
  }
 },
 "nbformat": 4,
 "nbformat_minor": 5
}
